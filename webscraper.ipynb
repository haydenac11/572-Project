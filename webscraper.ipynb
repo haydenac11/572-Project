{
 "cells": [
  {
   "cell_type": "code",
   "execution_count": 3,
   "id": "66b6e31f-9bc7-448e-b47d-803237edbd0d",
   "metadata": {
    "tags": []
   },
   "outputs": [
    {
     "ename": "ModuleNotFoundError",
     "evalue": "No module named 'pandas'",
     "output_type": "error",
     "traceback": [
      "\u001b[0;31m---------------------------------------------------------------------------\u001b[0m",
      "\u001b[0;31mModuleNotFoundError\u001b[0m                       Traceback (most recent call last)",
      "Cell \u001b[0;32mIn[3], line 1\u001b[0m\n\u001b[0;32m----> 1\u001b[0m \u001b[38;5;28;01mimport\u001b[39;00m \u001b[38;5;21;01mpandas\u001b[39;00m \u001b[38;5;28;01mas\u001b[39;00m \u001b[38;5;21;01mpd\u001b[39;00m \n\u001b[1;32m      2\u001b[0m \u001b[38;5;28;01mimport\u001b[39;00m \u001b[38;5;21;01myfinance\u001b[39;00m \u001b[38;5;28;01mas\u001b[39;00m \u001b[38;5;21;01myf\u001b[39;00m \n\u001b[1;32m      4\u001b[0m url \u001b[38;5;241m=\u001b[39m \u001b[38;5;124m\"\u001b[39m\u001b[38;5;124mhttps://en.wikipedia.org/wiki/List_of_S\u001b[39m\u001b[38;5;124m%\u001b[39m\u001b[38;5;124m26P_500_companies\u001b[39m\u001b[38;5;124m\"\u001b[39m\n",
      "\u001b[0;31mModuleNotFoundError\u001b[0m: No module named 'pandas'"
     ]
    }
   ],
   "source": [
    "import pandas as pd \n",
    "import yfinance as yf \n",
    "\n",
    "url = \"https://en.wikipedia.org/wiki/List_of_S%26P_500_companies\"\n",
    "\n",
    "#read wikipedia S&P500 table into PD dataframe \n",
    "df_sp500 = pd.read_html(url)[0][['Symbol', 'Security', 'GICS Sector']] \n",
    "#ticker DF \n",
    "sp500_tickers = df_sp500['Symbol'].tolist() \n",
    "\n",
    "#read changes table into DF \n",
    "sp500_changes = pd.read_html(url)[1]\n",
    "\n",
    "#problematic \n",
    "# drop rows where at least one ellement missing\n",
    "#changes = df_changes[['Date', 'Added', 'Removed']].dropna() \n",
    "#filter out reasons column \n",
    "#changes = changes[~changes['Date'].str.contains('Reason')]\n",
    "#filter out note column \n",
    "#changes = changes[~changes['Date'].str.contains('Note')] \n",
    "\n",
    "#leaving these fuckers out (Berkshire Hathaway - 2010, Brown-Forman - 1982, AirBNB - 2023) causing problems \n",
    "exclude = ['BRK.B', 'BF.B', 'ABNB', 'CARR', 'CEG', 'CTVA', 'DOW', 'FOXA', 'FOX', 'GEHC', 'KVUE', 'OTIS', 'UBER', 'VLTO'] \n",
    "sp500_tickers = [ticker for ticker in sp500_tickers if ticker not in exclude]\n",
    "#dict for individual stock DF storage \n",
    "stockdataframes = {} \n",
    "\n",
    "start_dte = \"2023-01-01\"\n",
    "end_dte = \"2023-12-31\"\n",
    "\n",
    "#ADD INCLUSION AND EXCLUSION DATE AND FILTER BY THAT FOR NEWER STOCKS AND REMOVED ONES \n",
    "\n",
    "#iterate through all tickers+ get historical data \n",
    "for ticker in sp500_tickers: \n",
    "    #added = row['Added'] \n",
    "    #removed = row['Removed'] \n",
    "    \n",
    "    try:\n",
    "        stock = yf.Ticker(ticker) \n",
    "        stock_df = stock.history(start=start_dte, end=end_dte)[['Close']]\n",
    "        \n",
    "        #debug \n",
    "        print(f\"Debug - Ticker: {ticker}, DataFrame shape: {stock_df.shape}\")\n",
    "        \n",
    "        #merge with wiki data - check if not empty first\n",
    "        if 'Close' in stock_df.columns and not stock_df.empty: \n",
    "            stock_df['Symbol'] = ticker\n",
    "            stock_df['Security'] = df_sp500[df_sp500['Symbol'] == ticker]['Security'].iloc[0]\n",
    "            stock_df['GICS Sector'] = df_sp500[df_sp500['Symbol'] == ticker]['GICS Sector'].iloc[0]\n",
    "            #merged_stock_df = pd.merge(stock_df, df_sp500[df_sp500['Symbol'] == ticker], left_index=True, right_index=True)\n",
    "        \n",
    "            #store merged df in dictionary \n",
    "            stockdataframes[ticker] = stock_df #used o be merged_stock_dataframe\n",
    "        \n",
    "            print(f\"Data fetched for {ticker}\")\n",
    "        else:\n",
    "            print(f\"Failed to fetch data for {ticker}: {e}\")\n",
    "    except Exception as e: \n",
    "        print(f\"Failed to fetch data for {ticker}: {e}\")\n",
    "\n",
    "#merge all stock dfs into one \n",
    "full_df = pd.concat(stockdataframes.values(), keys=stockdataframes.keys())\n",
    "\n",
    "#ptiny \n",
    "print(full_df.head()) \n"
   ]
  },
  {
   "cell_type": "code",
   "execution_count": null,
   "id": "2592bcd6",
   "metadata": {},
   "outputs": [],
   "source": []
  },
  {
   "cell_type": "code",
   "execution_count": null,
   "id": "f69103dc",
   "metadata": {},
   "outputs": [],
   "source": []
  },
  {
   "cell_type": "code",
   "execution_count": null,
   "id": "b2dc5f72-1c02-40f3-9290-839fc23b40ab",
   "metadata": {
    "tags": []
   },
   "outputs": [
    {
     "data": {
      "text/plain": [
       "2"
      ]
     },
     "execution_count": 2,
     "metadata": {},
     "output_type": "execute_result"
    }
   ],
   "source": []
  },
  {
   "cell_type": "code",
   "execution_count": null,
   "id": "97870d85-4565-4744-8405-904cc9ca9aca",
   "metadata": {},
   "outputs": [],
   "source": [
    "#REF \n",
    "#import pandas as pd \n",
    "#import yfinance as yf \n",
    "\n",
    "#url = \"https://en.wikipedia.org/wiki/List_of_S%26P_500_companies\"\n",
    "\n",
    "#read tables into PD dataframe \n",
    "#dfs = pd.read_html(url) \n",
    "\n",
    "#get first table (index 0) + first 3 cols \n",
    "#df = dfs[0].iloc[:, :3] \n",
    "#print(df) "
   ]
  }
 ],
 "metadata": {
  "kernelspec": {
   "display_name": "Python 3 (ipykernel)",
   "language": "python",
   "name": "python3"
  },
  "language_info": {
   "codemirror_mode": {
    "name": "ipython",
    "version": 3
   },
   "file_extension": ".py",
   "mimetype": "text/x-python",
   "name": "python",
   "nbconvert_exporter": "python",
   "pygments_lexer": "ipython3",
   "version": "3.10.0"
  }
 },
 "nbformat": 4,
 "nbformat_minor": 5
}
