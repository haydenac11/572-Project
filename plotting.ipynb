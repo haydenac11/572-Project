{
 "cells": [
  {
   "cell_type": "code",
   "execution_count": 1,
   "metadata": {},
   "outputs": [],
   "source": [
    "import pandas as pd \n",
    "#import yfinance as yf \n",
    "from scipy.stats import spearmanr\n",
    "import networkx as nx \n",
    "import numpy as np \n",
    "import matplotlib.pyplot as plt \n",
    "\n",
    "#dict for individual stock DF storage\n",
    "# stockdataframes = {}\n",
    "# start_dte = \"2019-01-01\"\n",
    "# end_dte = \"2023-12-31\"\n",
    "\n",
    "\n"
   ]
  },
  {
   "cell_type": "code",
   "execution_count": 41,
   "metadata": {},
   "outputs": [
    {
     "name": "stdout",
     "output_type": "stream",
     "text": [
      "20538\n",
      "  Unnamed: 0                      Date       Close Symbol Security  \\\n",
      "0        MMM 2019-01-31 05:00:00+00:00  163.799927    MMM       3M   \n",
      "1        MMM 2019-02-28 05:00:00+00:00  170.770477    MMM       3M   \n",
      "2        MMM 2019-04-30 04:00:00+00:00  156.047623    MMM       3M   \n",
      "3        MMM 2019-05-31 04:00:00+00:00  132.667892    MMM       3M   \n",
      "4        MMM 2019-07-31 04:00:00+00:00  145.100082    MMM       3M   \n",
      "\n",
      "   GICS Sector  \n",
      "0  Industrials  \n",
      "1  Industrials  \n",
      "2  Industrials  \n",
      "3  Industrials  \n",
      "4  Industrials  \n"
     ]
    }
   ],
   "source": [
    "#merge all stock dfs into one \n",
    "# full_df = pd.concat(stockdataframes.values(), keys=stockdataframes.keys())\n",
    "filepath = 'Data/SP500.csv'\n",
    "full_df = pd.read_csv(filepath)\n",
    "#print(full_df)\n",
    "#print(full_df.head())\n",
    "\n",
    "#need to cut this to just values and tickers\n",
    "\n",
    "#full_df = full_df.reset_index(level=0) \n",
    "#print(full_df.head())\n",
    "full_df['Date'] = pd.to_datetime(full_df['Date'], utc=True)\n",
    "##print(full_df.head())\n",
    "#df['Date'] = pd.to_datetime(df['Date'])\n",
    "#full_df.set_index('Date', inplace=True)\n",
    "#print(full_df['Date'].head())\n",
    "\n",
    "last_day_of_month = full_df['Date'] + pd.offsets.MonthEnd(0)\n",
    "\n",
    "# Use boolean indexing to filter the DataFrame for the last day of each month\n",
    "last_day_df = full_df[full_df['Date'].isin(last_day_of_month)]\n",
    "\n",
    "# Reset the index if needed\n",
    "last_day_df.reset_index(drop=True, inplace=True)\n",
    "\n",
    "print(len(last_day_df))\n",
    "print(last_day_df.head())\n",
    "\n",
    "#new_df = df.iloc[:1000].copy()\n",
    "#new_df.set_index('Date', inplace=True)\n",
    "# Display the new DataFrame\n",
    "#print(new_df.head())\n",
    "\n",
    "#print(full_df.info())\n",
    "#print(monthly_df)\n",
    "#monthly_df = full_df.resample('M').agg(list)\n",
    "#monthly_df.reset_index(drop=True, inplace=True)\n",
    "#print(len(monthly_df))\n",
    "#print(monthly_df)\n",
    "#print(len(monthly_df))\n",
    "#print(len(last_day_df))\n",
    "#print(last_day_df.head())\n",
    "#monthly_df.show()\n",
    "\n",
    "\n"
   ]
  },
  {
   "cell_type": "code",
   "execution_count": 3,
   "metadata": {},
   "outputs": [],
   "source": [
    "sp500_tickers = full_df['Symbol'].unique().tolist() \n",
    "exclude = ['BRK.B', 'BF.B', 'ABNB', 'CARR', 'CEG', 'CTVA', 'DOW', 'FOXA', 'FOX', 'GEHC', 'KVUE', 'OTIS', 'UBER', 'VLTO']\n",
    "sp500_tickers = [ticker for ticker in sp500_tickers if ticker not in exclude]\n"
   ]
  },
  {
   "cell_type": "code",
   "execution_count": 4,
   "metadata": {},
   "outputs": [],
   "source": [
    "def spearman_ranking(a):\n",
    "    input_array = np.array(a)\n",
    "    sorted_indices = np.argsort(-input_array)\n",
    "    ranks = np.empty_like(sorted_indices)\n",
    "    ranks[sorted_indices] = np.arange(1, len(input_array) + 1)\n",
    "    return ranks\n",
    "\n",
    "\n",
    "def spearman_coefficient(stock1, stock2):\n",
    "    a = spearman_ranking(stock1)\n",
    "    b = spearman_ranking(stock2)\n",
    "    n = (len(a) + len(b)) / 2\n",
    "    rho = 1 - (6 * np.sum((a - b)**2) / (n * (n**2 - 1)))\n",
    "    return rho\n"
   ]
  },
  {
   "cell_type": "code",
   "execution_count": 5,
   "metadata": {},
   "outputs": [
    {
     "name": "stdout",
     "output_type": "stream",
     "text": [
      "Symbol         A       AAL      AAPL      ABBV       ABT      ACGL       ACN  \\\n",
      "Symbol                                                                         \n",
      "A       1.000000  0.410279  0.504530  0.491463  0.561498  0.294077  0.655401   \n",
      "AAL     0.410279  1.000000  0.305401  0.076307  0.427352  0.297735  0.322822   \n",
      "AAPL    0.504530  0.305401  1.000000  0.258014  0.573171  0.284146  0.751916   \n",
      "ABBV    0.491463  0.076307  0.258014  1.000000  0.155226  0.308362  0.463937   \n",
      "ABT     0.561498  0.427352  0.573171  0.155226  1.000000  0.270906  0.692857   \n",
      "\n",
      "Symbol      ADBE       ADI       ADM  ...      WYNN       XEL       XOM  \\\n",
      "Symbol                                ...                                 \n",
      "A       0.479443  0.565331  0.527875  ...  0.347909  0.331185  0.295819   \n",
      "AAL     0.237631  0.556620  0.421429  ...  0.554530 -0.126481  0.503833   \n",
      "AAPL    0.707666  0.487631  0.469512  ...  0.433798  0.348955  0.140767   \n",
      "ABBV    0.175610  0.275958  0.443902  ...  0.254530  0.164111  0.144251   \n",
      "ABT     0.531707  0.471254  0.365679  ...  0.507840  0.424739  0.168118   \n",
      "\n",
      "Symbol      XRAY       XYL       YUM       ZBH      ZBRA      ZION       ZTS  \n",
      "Symbol                                                                        \n",
      "A       0.403833  0.727526  0.613937  0.565157  0.661324  0.540767  0.522648  \n",
      "AAL     0.491463  0.389721  0.351220  0.581359  0.517596  0.526307  0.063415  \n",
      "AAPL    0.332753  0.513415  0.515679  0.509233  0.608188  0.385192  0.614460  \n",
      "ABBV    0.350174  0.106620  0.309756  0.179791  0.291289  0.409059  0.267073  \n",
      "ABT     0.512021  0.637805  0.750000  0.656620  0.691986  0.428746  0.713066  \n",
      "\n",
      "[5 rows x 489 columns]\n",
      "489\n"
     ]
    }
   ],
   "source": [
    "# print(len(monthly_df))\n",
    "# Calculate Spearman correlation coefficient\n",
    "#corr_matrix = monthly_df.pivot(columns='Symbol', values='Close').pct_change().corr(method='spearman').dropna()\n",
    "# missing_values = last_day_df['Close'].isnull().sum()\n",
    "# print(missing_values)\n",
    "corr_matrix = last_day_df.pivot(index='Date',columns='Symbol', values='Close').pct_change().corr(method='spearman').dropna()\n",
    "\n",
    "print(corr_matrix.head())\n",
    "print(len(corr_matrix))"
   ]
  },
  {
   "cell_type": "code",
   "execution_count": 6,
   "metadata": {},
   "outputs": [
    {
     "name": "stdout",
     "output_type": "stream",
     "text": [
      "Symbol         A       AAL      AAPL      ABBV       ABT      ACGL       ACN  \\\n",
      "Symbol                                                                         \n",
      "A       1.000000  0.410279  0.504530  0.491463  0.561498  0.294077  0.655401   \n",
      "AAL     0.410279  1.000000  0.305401  0.076307  0.427352  0.297735  0.322822   \n",
      "AAPL    0.504530  0.305401  1.000000  0.258014  0.573171  0.284146  0.751916   \n",
      "ABBV    0.491463  0.076307  0.258014  1.000000  0.155226  0.308362  0.463937   \n",
      "ABT     0.561498  0.427352  0.573171  0.155226  1.000000  0.270906  0.692857   \n",
      "\n",
      "Symbol      ADBE       ADI       ADM  ...      WYNN       XEL       XOM  \\\n",
      "Symbol                                ...                                 \n",
      "A       0.479443  0.565331  0.527875  ...  0.347909  0.331185  0.295819   \n",
      "AAL     0.237631  0.556620  0.421429  ...  0.554530 -0.126481  0.503833   \n",
      "AAPL    0.707666  0.487631  0.469512  ...  0.433798  0.348955  0.140767   \n",
      "ABBV    0.175610  0.275958  0.443902  ...  0.254530  0.164111  0.144251   \n",
      "ABT     0.531707  0.471254  0.365679  ...  0.507840  0.424739  0.168118   \n",
      "\n",
      "Symbol      XRAY       XYL       YUM       ZBH      ZBRA      ZION       ZTS  \n",
      "Symbol                                                                        \n",
      "A       0.403833  0.727526  0.613937  0.565157  0.661324  0.540767  0.522648  \n",
      "AAL     0.491463  0.389721  0.351220  0.581359  0.517596  0.526307  0.063415  \n",
      "AAPL    0.332753  0.513415  0.515679  0.509233  0.608188  0.385192  0.614460  \n",
      "ABBV    0.350174  0.106620  0.309756  0.179791  0.291289  0.409059  0.267073  \n",
      "ABT     0.512021  0.637805  0.750000  0.656620  0.691986  0.428746  0.713066  \n",
      "\n",
      "[5 rows x 489 columns]\n"
     ]
    }
   ],
   "source": [
    "print(corr_matrix.head())"
   ]
  },
  {
   "cell_type": "code",
   "execution_count": 78,
   "metadata": {},
   "outputs": [],
   "source": [
    "\n",
    "#create graph \n",
    "G = nx.Graph() \n",
    "\n",
    "for stock in sp500_tickers: \n",
    "    G.add_node(stock) \n",
    "    \n",
    "#add links \n",
    "for i in range(len(sp500_tickers)): \n",
    "    for j in range(i + 1, len(sp500_tickers)):\n",
    "        stock1 = sp500_tickers[i]\n",
    "        stock2 = sp500_tickers[j]\n",
    "        \n",
    "        # Check if the stock symbols are present in the correlation matrix\n",
    "\n",
    "        # CHANGED CORRELATION THRESHOLD TO THIS IF BLOCK\n",
    "        if stock1 in corr_matrix.index and stock2 in corr_matrix.columns:\n",
    "            correlation_coefficient = corr_matrix.loc[stock1, stock2]\n",
    "            if not np.isnan(correlation_coefficient) and abs(correlation_coefficient) > 0.5:\n",
    "                G.add_edge(stock1, stock2, weight=correlation_coefficient)\n",
    "\n",
    "\n"
   ]
  },
  {
   "cell_type": "code",
   "execution_count": 79,
   "metadata": {},
   "outputs": [
    {
     "name": "stdout",
     "output_type": "stream",
     "text": [
      "At visualization\n",
      "Drawing edges\n",
      "Done Drawing edges\n",
      "drawing edge labels\n",
      "End\n"
     ]
    },
    {
     "data": {
      "image/png": "[encoded data removed]",
      "text/plain": [
       "<Figure size 640x480 with 1 Axes>"
      ]
     },
     "metadata": {},
     "output_type": "display_data"
    }
   ],
   "source": [
    "print(\"At visualization\")\n",
    "#visualization \n",
    "#pos = nx.spring_layout(G, seed=42)\n",
    "pos = nx.spring_layout(G)\n",
    "# Draw only edges with significant correlation\n",
    "\n",
    "# I COMMENTED OUT THIS LINE BECAUSE I THINK IT DOES NOTHING\n",
    "# I MOVOED THE CORRELATION THRESHOLD TO THE PREVIOUS CELL\n",
    "#edges = [(source, target) for source, target, data in G.edges(data=True) if abs(data['weight']) > 0.5]\n",
    "\n",
    "\n",
    "# NEED TO FLIP THE WEIGHTS OF THE SPEARMAN\n",
    "nx.draw_networkx_nodes(G, pos, node_size=30)\n",
    "#nx.draw_networkx_labels(G, pos, font_size=8)\n",
    "print(\"Drawing edges\")\n",
    "#nx.draw_networkx_edges(G, pos, edgelist=edges, edge_color='gray')\n",
    "print(\"Done Drawing edges\")\n",
    "labels = nx.get_edge_attributes(G, 'weight')\n",
    "print(\"drawing edge labels\")\n",
    "#nx.draw_networkx_edge_labels(G, pos, edge_labels=labels)\n",
    "print(\"End\")\n",
    "#nx.draw_circular(G, node_size=40)\n",
    "#nx.draw_kamada_kawai(G, node_size=40)\n",
    "#nx.draw_spectral(G, node_size=40)\n",
    "# deg = G.degree()\n",
    "# to_remove = [n for n in deg if deg[n] == 0]\n",
    "# G.remove_nodes_from(to_remove)\n",
    "# nodes_to_remove = [node for node, degree in G.degree() if degree == 0]\n",
    "# print(nodes_to_remove)\n",
    "# G.remove_nodes_from(nodes_to_remove)\n",
    "#G.remove_nodes_from((n for n,d in G.degree_iter() if d == 0))\n",
    "nx.draw_circular(G, node_size=40)\n",
    "#plt.show() #its a bullshit hgraph and idk if the coefficient is actually doing anything  useful here\n"
   ]
  },
  {
   "cell_type": "code",
   "execution_count": 76,
   "metadata": {},
   "outputs": [
    {
     "name": "stdout",
     "output_type": "stream",
     "text": [
      "31120\n",
      "489\n",
      "Average Degree: 127.280163599182\n"
     ]
    }
   ],
   "source": [
    "print(G.size()) # edges\n",
    "print(len(G)) # nodes\n",
    "degrees = [G.degree(node) for node in G]\n",
    "print(\"Average Degree:\", np.mean(degrees))"
   ]
  },
  {
   "cell_type": "code",
   "execution_count": 54,
   "metadata": {},
   "outputs": [],
   "source": [
    "#nx.write_gml(G, '500trialpoint7.gml')"
   ]
  }
 ],
 "metadata": {
  "interpreter": {
   "hash": "aee8b7b246df8f9039afb4144a1f6fd8d2ca17a180786b69acc140d282b71a49"
  },
  "kernelspec": {
   "display_name": "Python 3.9.2 64-bit",
   "name": "python3"
  },
  "language_info": {
   "codemirror_mode": {
    "name": "ipython",
    "version": 3
   },
   "file_extension": ".py",
   "mimetype": "text/x-python",
   "name": "python",
   "nbconvert_exporter": "python",
   "pygments_lexer": "ipython3",
   "version": "3.9.2"
  },
  "orig_nbformat": 4
 },
 "nbformat": 4,
 "nbformat_minor": 2
}
